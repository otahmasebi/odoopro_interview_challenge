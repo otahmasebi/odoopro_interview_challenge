{
 "cells": [
  {
   "cell_type": "markdown",
   "metadata": {},
   "source": [
    "# Task 1\n",
    "\n",
    "Given an array of integers `nums` and an integer `target`, return indices of the two numbers such that they add up to `target`.\n",
    "\n",
    "You may assume that each input would have **exactly one solution**, and you may not use the same element twice.\n",
    "\n",
    "You can return the answer in any order.\n",
    "\n",
    " \n",
    "\n",
    "**Example 1:**\n",
    "\n",
    "**Input:** nums = [2,7,11,15], target = 9\n",
    "**Output:** [0,1]\n",
    "**Explanation:** Because nums[0] + nums[1] == 9, we return [0, 1].\n",
    "\n",
    "**Example 2:**\n",
    "\n",
    "**Input:** nums = [3,2,4], target = 6\n",
    "**Output:** [1,2]\n",
    "\n",
    "**Example 3:**\n",
    "\n",
    "**Input:** nums = [3,3], target = 6\n",
    "**Output:** [0,1]\n",
    "\n",
    " \n",
    "\n",
    "**Constraints:**\n",
    "\n",
    "- `2 <= nums.length <= 104`\n",
    "- `-109 <= nums[i] <= 109`\n",
    "- `-109 <= target <= 109`\n",
    "- **Only one valid answer exists.**\n"
   ]
  },
  {
   "cell_type": "code",
   "execution_count": 14,
   "metadata": {},
   "outputs": [
    {
     "data": {
      "text/plain": [
       "([2, -3, -8, 3, -9, -10, -7, 7, -7], 9, [0, 7])"
      ]
     },
     "execution_count": 14,
     "metadata": {},
     "output_type": "execute_result"
    }
   ],
   "source": [
    "import random\n",
    "\n",
    "class Solution:\n",
    "    def twoSum(self, nums: list[int], target: int) -> list[int]:\n",
    "        num_to_index = {}\n",
    "        \n",
    "        for index, num in enumerate(nums):\n",
    "            complement = target - num\n",
    "            \n",
    "            if complement in num_to_index:\n",
    "                return [num_to_index[complement], index]\n",
    "            \n",
    "            num_to_index[num] = index\n",
    "\n",
    "first_num = random.randint(-10, 10)\n",
    "second_num = random.randint(-10, 10)\n",
    "target = first_num + second_num\n",
    "\n",
    "array_length = random.randint(2, 10)\n",
    "nums = [first_num, second_num] + [random.randint(-10, 10) for _ in range(array_length - 2)]\n",
    "\n",
    "random.shuffle(nums)\n",
    "\n",
    "solution = Solution()\n",
    "result = solution.twoSum(nums, target)\n",
    "\n",
    "nums, target, result\n"
   ]
  },
  {
   "cell_type": "code",
   "execution_count": null,
   "metadata": {},
   "outputs": [],
   "source": []
  }
 ],
 "metadata": {
  "kernelspec": {
   "display_name": ".venv",
   "language": "python",
   "name": "python3"
  },
  "language_info": {
   "codemirror_mode": {
    "name": "ipython",
    "version": 3
   },
   "file_extension": ".py",
   "mimetype": "text/x-python",
   "name": "python",
   "nbconvert_exporter": "python",
   "pygments_lexer": "ipython3",
   "version": "3.11.7"
  }
 },
 "nbformat": 4,
 "nbformat_minor": 4
}
