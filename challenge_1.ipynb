{
 "cells": [
  {
   "cell_type": "markdown",
   "metadata": {},
   "source": [
    "# Task 1\n",
    "\n",
    "Given an array of integers `nums` and an integer `target`, return indices of the two numbers such that they add up to `target`.\n",
    "\n",
    "You may assume that each input would have **exactly one solution**, and you may not use the same element twice.\n",
    "\n",
    "You can return the answer in any order.\n",
    "\n",
    " \n",
    "\n",
    "**Example 1:**\n",
    "\n",
    "**Input:** nums = [2,7,11,15], target = 9\n",
    "**Output:** [0,1]\n",
    "**Explanation:** Because nums[0] + nums[1] == 9, we return [0, 1].\n",
    "\n",
    "**Example 2:**\n",
    "\n",
    "**Input:** nums = [3,2,4], target = 6\n",
    "**Output:** [1,2]\n",
    "\n",
    "**Example 3:**\n",
    "\n",
    "**Input:** nums = [3,3], target = 6\n",
    "**Output:** [0,1]\n",
    "\n",
    " \n",
    "\n",
    "**Constraints:**\n",
    "\n",
    "- `2 <= nums.length <= 104`\n",
    "- `-109 <= nums[i] <= 109`\n",
    "- `-109 <= target <= 109`\n",
    "- **Only one valid answer exists.**\n"
   ]
  },
  {
   "cell_type": "code",
   "execution_count": null,
   "metadata": {},
   "outputs": [],
   "source": [
    "class Solution:\n",
    "    def twoSum(self, nums: list[int], target: int) -> list[int]:\n",
    "        if not (2 <= len(nums) <= 104):\n",
    "            raise ValueError(\"Length of nums must be between 2 and 104.\")\n",
    "        \n",
    "        if any(not (-109 <= num <= 109) for num in nums):\n",
    "            raise ValueError(\"Each element in nums must be between -109 and 109.\")\n",
    "        \n",
    "        if not (-109 <= target <= 109):\n",
    "            raise ValueError(\"Target must be between -109 and 109.\")\n",
    "        \n",
    "        dict = {}  # دیکشنری با کلید خود عنصر و مقدار ایندکس عنصر برای ذخیره مکمل‌ها\n",
    "        for i, num in enumerate(nums):\n",
    "            complement = target - num\n",
    "            if complement in dict:\n",
    "                return [dict[complement], i]  # اگر مکمل پیدا شد، جواب را برگردان\n",
    "            dict[num] = i  # در غیر این صورت، عدد فعلی را در دیکشنری ذخیره کن\n",
    "\n",
    "        raise ValueError(\"No two sum solution found.\")"
   ]
  },
  {
   "cell_type": "code",
   "execution_count": null,
   "metadata": {},
   "outputs": [],
   "source": [
    "# example\n",
    "solution = Solution()\n",
    "nums = [2, 7, 11, -3, 22, 0, -14]\n",
    "target = 19\n",
    "\n",
    "result = solution.twoSum(nums, target)\n",
    "print(result)"
   ]
  }
 ],
 "metadata": {
  "kernelspec": {
   "display_name": ".venv",
   "language": "python",
   "name": "python3"
  },
  "language_info": {
   "codemirror_mode": {
    "name": "ipython",
    "version": 3
   },
   "file_extension": ".py",
   "mimetype": "text/x-python",
   "name": "python",
   "nbconvert_exporter": "python",
   "pygments_lexer": "ipython3",
   "version": "3.11.7"
  }
 },
 "nbformat": 4,
 "nbformat_minor": 2
}
